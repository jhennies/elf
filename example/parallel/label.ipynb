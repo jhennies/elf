{
 "cells": [
  {
   "cell_type": "markdown",
   "metadata": {},
   "source": [
    "# Label / Connected Components\n",
    "\n",
    "Use the `label` function from `elf.parallel` to label a volumetric segmentation by applying connected components."
   ]
  },
  {
   "cell_type": "code",
   "execution_count": null,
   "metadata": {},
   "outputs": [],
   "source": [
    "%gui qt5 \n",
    "\n",
    "# import napari for data visualisation\n",
    "import napari\n",
    "import numpy as np\n",
    "\n",
    "# import the relevant elf functionality\n",
    "from elf.io import open_file\n",
    "from elf.parallel.label import label\n",
    "from elf.evaluation import rand_index\n",
    "\n",
    "# use skimage.label to verify the elf implementation\n",
    "from skimage.measure import label as label_reference"
   ]
  },
  {
   "cell_type": "code",
   "execution_count": null,
   "metadata": {},
   "outputs": [],
   "source": [
    "# read the data\n",
    "# you can download the example data from here:\n",
    "# https://hcicloud.iwr.uni-heidelberg.de/index.php/s/6LuE7nxBN3EFRtL\n",
    "data_path = '/home/pape/Work/data/isbi/isbi_train_volume.h5'  # adjust this path\n",
    "with open_file(data_path, 'r') as f:\n",
    "    # load the raw data\n",
    "    raw = f['raw'][:]\n",
    "    # load the segmentation\n",
    "    seg = f['labels/gt_segmentation'][:]"
   ]
  },
  {
   "cell_type": "code",
   "execution_count": null,
   "metadata": {},
   "outputs": [],
   "source": [
    "def merge_ids(seg, n_merges=50):\n",
    "    uniques = np.unique(seg)\n",
    "    merge_ids = np.random.choice(uniques,\n",
    "                                 size=(n_merges, 2),\n",
    "                                 replace=False)\n",
    "    for ida, idb in merge_ids:\n",
    "        seg[seg == idb] = ida\n",
    "    return seg"
   ]
  },
  {
   "cell_type": "code",
   "execution_count": null,
   "metadata": {},
   "outputs": [],
   "source": [
    "# merge some of the segment ids,\n",
    "# so that connected components has an effect\n",
    "seg = merge_ids(seg)"
   ]
  },
  {
   "cell_type": "code",
   "execution_count": null,
   "metadata": {},
   "outputs": [],
   "source": [
    "# apply connected components to label the volume\n",
    "blocks = (10, 100, 100)  # block size used for parallelisation\n",
    "# allocate the output data (label cannot be applied inplace)\n",
    "labeled = np.zeros_like(seg)\n",
    "labeled = label(seg, labeled,\n",
    "                block_shape=blocks, verbose=True)"
   ]
  },
  {
   "cell_type": "code",
   "execution_count": null,
   "metadata": {},
   "outputs": [],
   "source": [
    "# compute label with the skimage reference implementation\n",
    "labeled_ref = label_reference(seg)\n",
    "# check that the results agree via the rand index\n",
    "_, ri = rand_index(labeled, labeled_ref)\n",
    "print(\"The rand index with the reference implementation is\", ri)\n",
    "print(\"(1. means complete agreement.)\")"
   ]
  },
  {
   "cell_type": "code",
   "execution_count": null,
   "metadata": {},
   "outputs": [],
   "source": [
    "# visualize the results\n",
    "viewer = napari.Viewer()\n",
    "viewer.add_image(raw, name='raw')\n",
    "viewer.add_labels(seg, name='segmentation')\n",
    "viewer.add_labels(labeled, name='labeled')"
   ]
  }
 ],
 "metadata": {
  "kernelspec": {
   "display_name": "Python 3",
   "language": "python",
   "name": "python3"
  },
  "language_info": {
   "codemirror_mode": {
    "name": "ipython",
    "version": 3
   },
   "file_extension": ".py",
   "mimetype": "text/x-python",
   "name": "python",
   "nbconvert_exporter": "python",
   "pygments_lexer": "ipython3",
   "version": "3.7.3"
  }
 },
 "nbformat": 4,
 "nbformat_minor": 2
}
