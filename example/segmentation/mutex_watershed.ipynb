{
 "cells": [
  {
   "cell_type": "markdown",
   "metadata": {},
   "source": [
    "# Mutex Watershed\n",
    "\n",
    "Use the `elf.segmentation` module for boundary based segmentation with the mutex watershed algorithm: [The Mutex Watershed: Efficent, Parameter-Free Image Partitionong](http://openaccess.thecvf.com/content_ECCV_2018/html/Steffen_Wolf_The_Mutex_Watershed_ECCV_2018_paper.html).\n",
    "We use data from the paper based on the [ISBI 2012 EM Segmentation challenge](http://brainiac2.mit.edu/isbi_challenge/home).\n",
    "You can obtain this data [here](https://hcicloud.iwr.uni-heidelberg.de/index.php/s/6LuE7nxBN3EFRtL).\n",
    "\n",
    "The mutex watershed can operate directly on pixel affinity maps.\n",
    "It produces a segmentation by partitioning the grid graph, taking into acount long range pixel connections. This is achieved by greedily connecting pixels that are joined by a path of local affinity edges **unless** there exists a long range edge that prevents this join.\n",
    "\n",
    "In addition to the default elf dependencies, you will need to install [affogato](https://github.com/constantinpape/affogato) to run this example."
   ]
  },
  {
   "cell_type": "markdown",
   "metadata": {},
   "source": [
    "## Preparation"
   ]
  },
  {
   "cell_type": "code",
   "execution_count": null,
   "metadata": {},
   "outputs": [],
   "source": [
    "%gui qt5 \n",
    "import numpy as np\n",
    "\n",
    "# import napari for data visualisation\n",
    "import napari\n",
    "\n",
    "# import the segmentation functionality from elf\n",
    "import elf.segmentation.mutex_watershed as mws\n",
    "\n",
    "# import the open_file function from elf, which supports opening files\n",
    "# in hdf5, zarr, n5 or knossos file format\n",
    "from elf.io import open_file"
   ]
  },
  {
   "cell_type": "code",
   "execution_count": null,
   "metadata": {},
   "outputs": [],
   "source": [
    "# read the data\n",
    "# you can download the example data from here:\n",
    "# https://hcicloud.iwr.uni-heidelberg.de/index.php/s/6LuE7nxBN3EFRtL\n",
    "data_path = '/home/pape/Work/data/isbi/isbi_test_volume.h5'  # adjust this path\n",
    "with open_file(data_path, 'r') as f:\n",
    "    # load the raw data\n",
    "    raw = f['raw'][:]\n",
    "    # load the affinities\n",
    "    affs = f['affinities'][:]"
   ]
  },
  {
   "cell_type": "markdown",
   "metadata": {},
   "source": [
    "## Segment via mutex watershed"
   ]
  },
  {
   "cell_type": "code",
   "execution_count": null,
   "metadata": {},
   "outputs": [],
   "source": [
    "# set all parameters for the mutex watershed\n",
    "\n",
    "# the offsets corresponds the pixel transitions defied by the inidvidual affinity channels\n",
    "# for example, [-1, 0, 0] means that the affinity channel encodes the transition to\n",
    "# the pixel one z slice below.\n",
    "# [0, -9, 0] mean that the affinity channel encode the transition to 9 pixels to the left\n",
    "offsets = [[-1, 0, 0], [0, -1, 0], [0, 0, -1],\n",
    "           [-1, -1, -1], [-1, 1, 1], [-1, -1, 1], [-1, 1, -1],\n",
    "           [0, -9, 0], [0, 0, -9],\n",
    "           [0, -9, -9], [0, 9, -9], [0, -9, -4], [0, -4, -9], [0, 4, -9], [0, 9, -4],\n",
    "           [0, -27, 0], [0, 0, -27]]\n",
    "\n",
    "# The strides are used to sub-sample the long range edges, which are used for repulsive\n",
    "# connections in the mutex watershed.\n",
    "# This reduces the runtime and is ok, because we have more long range then local affinity channels.\n",
    "strides = [1, 10, 10]\n",
    "\n",
    "# if randomize_strides is True, the sub-sampling of long-range edges is done at random.\n",
    "# this usually improves resutls by avoiding sampling artefacts, but it makes the result\n",
    "# not fully reproducible\n",
    "randomize_strides = True"
   ]
  },
  {
   "cell_type": "code",
   "execution_count": null,
   "metadata": {},
   "outputs": [],
   "source": [
    "# run the algorithm\n",
    "segmentation = mws.mutex_watershed(affs, offsets, strides,\n",
    "                                   randomize_strides=True)"
   ]
  },
  {
   "cell_type": "code",
   "execution_count": null,
   "metadata": {},
   "outputs": [],
   "source": [
    "# visualize the results\n",
    "# TODO switch to new napari syntax\n",
    "# napari.view_image(raw, name='raw')\n",
    "# napari.view_image(affs, name='affinities')\n",
    "# napari.add_labels(segmentation, name='mws-segmentation')\n",
    "\n",
    "viewer = napari.Viewer()\n",
    "viewer.add_image(raw, name='raw')\n",
    "viewer.add_image(affs, name='affinities')\n",
    "viewer.add_labels(segmentation, name='mws-segmentation')"
   ]
  },
  {
   "cell_type": "markdown",
   "metadata": {},
   "source": [
    "## Block-wise MWS\n",
    "\n",
    "There's also a block-wise implementation of the mutex watershed (that uses Multicut to stitch block results).\n",
    "You can use it to segment larger volumes, where normal mutex watershed takes too long to run."
   ]
  },
  {
   "cell_type": "code",
   "execution_count": null,
   "metadata": {},
   "outputs": [],
   "source": [
    "# NOTE due to an issue with the current mws implementation, please\n",
    "# reload the affinities before running the blockwise segmentation\n",
    "block_shape = [10, 256, 256]\n",
    "blockwise_seg = mws.blockwise_mutex_watershed(affs, offsets, strides,\n",
    "                                              block_shape, randomize_strides=True)\n",
    "print(blockwise_seg.shape)"
   ]
  },
  {
   "cell_type": "code",
   "execution_count": null,
   "metadata": {},
   "outputs": [],
   "source": [
    "# visualize the results\n",
    "# TODO switch to new napari syntax\n",
    "# napari.view_image(raw, name='raw')\n",
    "# napari.view_image(affs, name='affinities')\n",
    "# napari.add_labels(segmentation, name='mws-segmentation')\n",
    "\n",
    "viewer = napari.Viewer()\n",
    "viewer.add_image(raw, name='raw')\n",
    "viewer.add_image(affs, name='affinities')\n",
    "viewer.add_labels(segmentation, name='mws-segmentation')\n",
    "viewer.add_labels(blockwise_seg, name='blockwise-segmentation')"
   ]
  }
 ],
 "metadata": {
  "kernelspec": {
   "display_name": "Python 3",
   "language": "python",
   "name": "python3"
  },
  "language_info": {
   "codemirror_mode": {
    "name": "ipython",
    "version": 3
   },
   "file_extension": ".py",
   "mimetype": "text/x-python",
   "name": "python",
   "nbconvert_exporter": "python",
   "pygments_lexer": "ipython3",
   "version": "3.7.3"
  }
 },
 "nbformat": 4,
 "nbformat_minor": 2
}
